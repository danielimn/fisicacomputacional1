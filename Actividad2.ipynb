{
  "nbformat": 4,
  "nbformat_minor": 0,
  "metadata": {
    "colab": {
      "name": "Actividad2.ipynb",
      "provenance": [],
      "authorship_tag": "ABX9TyPDZqRizQ2nSwOYjloMtWRw",
      "include_colab_link": true
    },
    "kernelspec": {
      "display_name": "Python 3",
      "name": "python3"
    }
  },
  "cells": [
    {
      "cell_type": "markdown",
      "metadata": {
        "id": "view-in-github",
        "colab_type": "text"
      },
      "source": [
        "<a href=\"https://colab.research.google.com/github/danielimn/fisicacomputacional1/blob/main/Actividad2.ipynb\" target=\"_parent\"><img src=\"https://colab.research.google.com/assets/colab-badge.svg\" alt=\"Open In Colab\"/></a>"
      ]
    },
    {
      "cell_type": "markdown",
      "metadata": {
        "id": "H1WQTJrZ6mRz"
      },
      "source": [
        "Para el cálculo del área de un círculo reducimos nuestra función a solo una variable que será el radio (x) y el return será la ecuación para calcular el área: pi * x^2"
      ]
    },
    {
      "cell_type": "code",
      "metadata": {
        "id": "9tBqCJWY15Yr"
      },
      "source": [
        "# CÁLCULO DEL ÁREA DEL CÍRCULO\n",
        "# Importamos la biblioteca de numpy para trabajar con el número pi.\n",
        "import numpy as np\n",
        "# Se define una función de 1 variable para calcular el área. \n",
        "def area(x):\n",
        "    return np.pi*x**2\n",
        "\n",
        "print(\"Proporciona el radio del círculo: \", end=\"\")\n",
        "r = float(input())\n",
        "a = area(r)\n",
        "# Imprime el valor del área en formato libre.\n",
        "print(\"\\nArea = \", a)\n",
        "# Imprime el valor del área con 2 decimales. \n",
        "print(\"\\nArea = {:.4f}\".format(a))"
      ],
      "execution_count": null,
      "outputs": []
    },
    {
      "cell_type": "markdown",
      "metadata": {
        "id": "JWn6-dup-7qt"
      },
      "source": [
        "En el caso de la elipse si ocuparemos nuestra función con dos variables, una para el radio menor (x) y otra para el mayor (y), de igual manera en return ingresamos la fórmula para obtener el área: x * y * pi"
      ]
    },
    {
      "cell_type": "code",
      "metadata": {
        "id": "Tu_RqX9c34in"
      },
      "source": [
        "# CÁLCULO DEL ÁREA DE LA ELIPSE\n",
        "# Importamos la biblioteca de numpy para trabajar con el número pi.\n",
        "import numpy as np\n",
        "# Se define una función de 2 variables para calcular el área.  \n",
        "def area(x,y):\n",
        "    return np.pi*x*y\n",
        "\n",
        "print(\"Proporciona el radio MENOR de la elipse: \", end=\"\")\n",
        "me = float(input())\n",
        "print(\"Proporciona el radio MAYOR de la elipse: \", end=\"\")\n",
        "ma = float(input())\n",
        "a = area(me,ma)\n",
        "# Imprime el valor del área en formato libre.\n",
        "print(\"\\nArea = \", a)\n",
        "# Imprime el valor del área con 2 decimales. \n",
        "print(\"\\nArea = {:.4f}\".format(a))"
      ],
      "execution_count": null,
      "outputs": []
    },
    {
      "cell_type": "markdown",
      "metadata": {
        "id": "GDvFHsXM_SSf"
      },
      "source": [
        "Para el caso del volumen de la esfera regresamos de nuevo a declarar una función de una variable que será de nuevo el radio (x) y cambiamos el return por la fórmula del volumen de una esfera: (4/3) * pi * x^3"
      ]
    },
    {
      "cell_type": "code",
      "metadata": {
        "id": "1kDSbwgj8CY0"
      },
      "source": [
        "# CÁLCULO DEL VOLUMEN DE UNA ESFERA\n",
        "# Importamos la biblioteca de numpy para trabajar con el número pi.\n",
        "import numpy as np\n",
        "# Se define una función de 1 variable para calcular el volumen.  \n",
        "def volumen(x):\n",
        "    return (4/3.0)*np.pi*x**3\n",
        "\n",
        "print(\"Proporciona el radio de la esfera: \", end=\"\")\n",
        "r = float(input())\n",
        "a = volumen(r)\n",
        "# Imprime el valor del volumen en formato libre.\n",
        "print(\"\\nVolumen = \", a)\n",
        "# Imprime el valor del volumen con 2 decimales. \n",
        "print(\"\\nVolumen = {:.4f}\".format(a))"
      ],
      "execution_count": null,
      "outputs": []
    },
    {
      "cell_type": "markdown",
      "metadata": {
        "id": "rXtjuECv_ooK"
      },
      "source": [
        "Regresamos con una función de dos variables donde una será el radio de la base del cilindro (x) y la otra la altura (y). En return modificamos la función para el volumen del cilindro que es la fórmula del área del círculo (base) por la altura: y * Pi * x^2"
      ]
    },
    {
      "cell_type": "code",
      "metadata": {
        "id": "UJjY-8nO8ozy"
      },
      "source": [
        "# CÁLCULO DEL VOLUMEN DE UN CILINDRO\n",
        "# Importamos la biblioteca de numpy para trabajar con el número pi.\n",
        "import numpy as np\n",
        "# Se define una función de 2 variables para calcular el volumen.  \n",
        "def volumen(x,y):\n",
        "    return np.pi*x**2*y\n",
        "\n",
        "print(\"Proporciona el radio de la base del cilindro: \", end=\"\")\n",
        "r = float(input())\n",
        "print(\"Proporciona la altura del cilindro: \", end=\"\")\n",
        "h = float(input())\n",
        "a = volumen(r,h)\n",
        "# Imprime el valor del volumen en formato libre.\n",
        "print(\"\\nVolumen = \", a)\n",
        "# Imprime el valor del volumen con 4 decimales. \n",
        "print(\"\\nVolumen = {:.4f}\".format(a))"
      ],
      "execution_count": null,
      "outputs": []
    }
  ]
}